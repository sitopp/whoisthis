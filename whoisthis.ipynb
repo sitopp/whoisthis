{
  "nbformat": 4,
  "nbformat_minor": 0,
  "metadata": {
    "colab": {
      "provenance": []
    },
    "kernelspec": {
      "name": "python3",
      "display_name": "Python 3"
    },
    "language_info": {
      "name": "python"
    }
  },
  "cells": [
    {
      "cell_type": "code",
      "execution_count": null,
      "metadata": {
        "id": "SWdKH0VM8UyL"
      },
      "outputs": [],
      "source": [
        "!pip install tensorflow faiss-cpu numpy opencv-python\n"
      ]
    },
    {
      "cell_type": "code",
      "source": [
        "import os\n",
        "import numpy as np\n",
        "import tensorflow as tf\n",
        "from tensorflow.keras.applications.resnet50 import ResNet50, preprocess_input\n",
        "from tensorflow.keras.preprocessing import image\n",
        "import faiss\n"
      ],
      "metadata": {
        "id": "dL673GZEbtcn"
      },
      "execution_count": null,
      "outputs": []
    },
    {
      "cell_type": "code",
      "source": [
        "\n",
        "# 画像からembeddingを抽出するモデルの設定\n",
        "model = ResNet50(weights='imagenet', include_top=False, pooling='avg')\n",
        "\n",
        "def get_image_embedding(img_path):\n",
        "    \"\"\"\n",
        "    指定されたパスの画像からembeddingを取得します。\n",
        "    \"\"\"\n",
        "    # 画像の読み込みと前処理\n",
        "    img = image.load_img(img_path, target_size=(224, 224))\n",
        "    img_array = image.img_to_array(img)\n",
        "    img_array = np.expand_dims(img_array, axis=0)\n",
        "    img_array = preprocess_input(img_array)\n",
        "\n",
        "    # 画像からembeddingを取得\n",
        "    embedding = model.predict(img_array)\n",
        "    return embedding\n",
        "\n",
        "def load_images_and_embeddings(directory):\n",
        "    \"\"\"\n",
        "    指定されたディレクトリ内の全ての画像を読み込み、それぞれのembeddingを取得します。\n",
        "    \"\"\"\n",
        "    image_paths = [os.path.join(directory, f) for f in os.listdir(directory) if f.endswith(('.jpg', '.jpeg', '.png'))]\n",
        "    embeddings = []\n",
        "    for img_path in image_paths:\n",
        "        embedding = get_image_embedding(img_path)\n",
        "        embeddings.append(embedding)\n",
        "    return image_paths, np.vstack(embeddings)\n",
        "\n",
        "def create_faiss_index(embeddings):\n",
        "    \"\"\"\n",
        "    embeddingをFAISSインデックスに追加します。\n",
        "    \"\"\"\n",
        "    dimension = embeddings.shape[1]\n",
        "    index = faiss.IndexFlatL2(dimension)\n",
        "    index.add(embeddings)\n",
        "    return index\n",
        "\n",
        "\n",
        "def search_similar_images(query_img_path, image_paths, index, top_k=5):\n",
        "    \"\"\"\n",
        "    クエリ画像に対して、FAISSインデックスを使用して類似画像を検索します。\n",
        "    \"\"\"\n",
        "    query_embedding = get_image_embedding(query_img_path)\n",
        "    distances, indices = index.search(query_embedding, top_k)\n",
        "    return [(image_paths[i], distances[0][j]) for j, i in enumerate(indices[0])]\n",
        "\n"
      ],
      "metadata": {
        "id": "5JtwfY7fcmWO"
      },
      "execution_count": null,
      "outputs": []
    },
    {
      "cell_type": "code",
      "source": [
        "\n",
        "# メイン処理\n",
        "if __name__ == \"__main__\":\n",
        "    # 画像が保存されているディレクトリ\n",
        "    image_directory = '/content/image-for-embedding/'\n",
        "\n",
        "    # 画像とembeddingをロード\n",
        "    image_paths, embeddings = load_images_and_embeddings(image_directory)\n",
        "\n",
        "    # FAISSインデックスを作成\n",
        "    index = create_faiss_index(embeddings)\n",
        "\n"
      ],
      "metadata": {
        "id": "MnRpxT6yctzi"
      },
      "execution_count": null,
      "outputs": []
    },
    {
      "cell_type": "code",
      "source": [
        "    # クエリ画像のパス\n",
        "    query_image_path = '/content/target-image/target.jpeg'\n",
        "\n",
        "    # # 類似画像を検索\n",
        "    # similar_images = search_similar_images(query_image_path, image_paths, index)\n",
        "    similar_images = search_similar_images(query_image_path, image_paths, index, top_k=5)\n",
        "\n",
        "    # 結果を表示\n",
        "    print(\"Query image:\", query_image_path)\n",
        "    print(\"Similar images:\")\n",
        "    for img_path in similar_images:\n",
        "        print(img_path)\n",
        "\n",
        "    # # 結果を表示\n",
        "    # print(\"Query image:\", query_image_path)\n",
        "    # print(\"Top 5 similar images with their distances:\")\n",
        "    # for img_path, distance in similar_images:\n",
        "    #     print(f\"Image: {img_path}, Distance: {distance}\")\n",
        "\n"
      ],
      "metadata": {
        "id": "ir8-mTyyixoa"
      },
      "execution_count": null,
      "outputs": []
    },
    {
      "cell_type": "code",
      "source": [],
      "metadata": {
        "id": "WaqIVgcDbuzd"
      },
      "execution_count": null,
      "outputs": []
    }
  ]
}